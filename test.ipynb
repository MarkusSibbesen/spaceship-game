{
 "cells": [
  {
   "cell_type": "code",
   "execution_count": 7,
   "metadata": {},
   "outputs": [],
   "source": [
    "import os\n",
    "import torch\n",
    "from data_handling import Labels\n"
   ]
  },
  {
   "cell_type": "code",
   "execution_count": 13,
   "metadata": {},
   "outputs": [],
   "source": [
    "lab = Labels()"
   ]
  },
  {
   "cell_type": "code",
   "execution_count": 14,
   "metadata": {},
   "outputs": [],
   "source": [
    "target_label = \"disgust\"\n",
    "text_group, index_group = lab.get_label_groupings(target_label)"
   ]
  },
  {
   "cell_type": "code",
   "execution_count": 15,
   "metadata": {},
   "outputs": [
    {
     "name": "stderr",
     "output_type": "stream",
     "text": [
      "C:\\Users\\Bruger\\AppData\\Local\\Temp\\ipykernel_2996\\2951083830.py:15: FutureWarning: You are using `torch.load` with `weights_only=False` (the current default value), which uses the default pickle module implicitly. It is possible to construct malicious pickle data which will execute arbitrary code during unpickling (See https://github.com/pytorch/pytorch/blob/main/SECURITY.md#untrusted-models for more details). In a future release, the default value for `weights_only` will be flipped to `True`. This limits the functions that could be executed during unpickling. Arbitrary objects will no longer be allowed to be loaded via this mode unless they are explicitly allowlisted by the user via `torch.serialization.add_safe_globals`. We recommend you start setting `weights_only=True` for any use case where you don't have full control of the loaded file. Please open an issue on GitHub for any issues related to this experimental feature.\n",
      "  complement[layer].append(torch.load(path + \"/\" + tensor))\n",
      "C:\\Users\\Bruger\\AppData\\Local\\Temp\\ipykernel_2996\\2951083830.py:12: FutureWarning: You are using `torch.load` with `weights_only=False` (the current default value), which uses the default pickle module implicitly. It is possible to construct malicious pickle data which will execute arbitrary code during unpickling (See https://github.com/pytorch/pytorch/blob/main/SECURITY.md#untrusted-models for more details). In a future release, the default value for `weights_only` will be flipped to `True`. This limits the functions that could be executed during unpickling. Arbitrary objects will no longer be allowed to be loaded via this mode unless they are explicitly allowlisted by the user via `torch.serialization.add_safe_globals`. We recommend you start setting `weights_only=True` for any use case where you don't have full control of the loaded file. Please open an issue on GitHub for any issues related to this experimental feature.\n",
      "  target[layer].append(torch.load(path + \"/\" + tensor))\n"
     ]
    }
   ],
   "source": [
    "from collections import defaultdict\n",
    "\n",
    "target = defaultdict(list)\n",
    "complement = defaultdict(list)\n",
    "\n",
    "\n",
    "path = \"steering_vectors/raw_means\"\n",
    "for tensor in os.listdir(path):\n",
    "    layer = int(tensor.split(\"_\")[0][-1])\n",
    "    label = int(tensor.split(\"_\")[1].split('label')[1].split('.')[0])\n",
    "    if label in index_group:\n",
    "        target[layer].append(torch.load(path + \"/\" + tensor))\n",
    "        #target.append(torch.load(path + \"/\" + tensor))\n",
    "    else:\n",
    "        complement[layer].append(torch.load(path + \"/\" + tensor))\n",
    "        #complement.append(torch.load(path + \"/\" + tensor))\n",
    "#combined = torch.stack(target).mean(dim=0)-torch.stack(complement).mean(dim=0)"
   ]
  },
  {
   "cell_type": "code",
   "execution_count": 16,
   "metadata": {},
   "outputs": [],
   "source": [
    "combined = dict()\n",
    "for layer_index in range(len(complement.keys())):\n",
    "    combined[layer_index] = torch.stack(target[layer_index]).mean(dim=0)-torch.stack(complement[layer_index]).mean(dim=0)"
   ]
  },
  {
   "cell_type": "code",
   "execution_count": 17,
   "metadata": {},
   "outputs": [],
   "source": [
    "from pathlib import Path\n",
    "Path(f\"steering_vectors/final_vectors/{target_label}\").mkdir(parents=True, exist_ok=True)\n",
    "\n",
    "for layer_index, tensor in combined.items():\n",
    "    torch.save(tensor,f\"steering_vectors/final_vectors/{target_label}/layer{layer_index}_combined.pt\")\n",
    "    \n",
    "for layer_index, tensor in target.items():\n",
    "    torch.save(tensor,f\"steering_vectors/final_vectors/{target_label}/layer{layer_index}_target.pt\")\n",
    "\n",
    "for layer_index, tensor in complement.items():\n",
    "    torch.save(tensor,f\"steering_vectors/final_vectors/{target_label}/layer{layer_index}_complement.pt\")"
   ]
  },
  {
   "cell_type": "code",
   "execution_count": null,
   "metadata": {},
   "outputs": [],
   "source": []
  }
 ],
 "metadata": {
  "kernelspec": {
   "display_name": "mechinterp",
   "language": "python",
   "name": "python3"
  },
  "language_info": {
   "codemirror_mode": {
    "name": "ipython",
    "version": 3
   },
   "file_extension": ".py",
   "mimetype": "text/x-python",
   "name": "python",
   "nbconvert_exporter": "python",
   "pygments_lexer": "ipython3",
   "version": "3.12.9"
  }
 },
 "nbformat": 4,
 "nbformat_minor": 2
}
